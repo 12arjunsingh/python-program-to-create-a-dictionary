{
 "cells": [
  {
   "cell_type": "markdown",
   "id": "e3f1c376",
   "metadata": {},
   "source": [
    "# Write a python program to create a dictionary which contains student’s names and marks. Iterate over the dictionary and apply below conditions to print their grades\n"
   ]
  },
  {
   "cell_type": "code",
   "execution_count": null,
   "id": "c97704e8",
   "metadata": {},
   "outputs": [],
   "source": [
    "students = dict() #This is a variable called students that is assigned to an empty dictionary.\n",
    "n = int(input(\"Enter number of students :\"))#This is a function that takes in an input from \n",
    "#the user and stores it as a variable. The function then converts the input into an integer.\n",
    "\n",
    "for i in range(n):#This is a for loop that iterates through the range of n\n",
    "        sname = input(\"Enter names of student :\")#This is a function that allows the user to input their name.\n",
    "        marks= []#This is a list. It stores the marks of each student.\n",
    "        avg=0 #This is a variable that stores the sum of all the marks. It is initialized to 0.\n",
    "        for j in range(5):#This is a for loop that iterates 5 times.\n",
    "            mark = float(input(\"Enter marks :\"))#This is a function that takes in user input and converts it to a float.\n",
    "            marks.append(mark)#Answer: This is a function that adds an element to the end of the list. It takes one parameter, which is the element to be added. The syntax for this function is as follows:\n",
    "\n",
    "#list_name.append(element) # where list_name is the name of the list and element is what you want to add to it.\n",
    "            print(marks)   \n",
    "            avg=avg+marks[j]\n",
    "        \n",
    "        avg1=avg/5\n",
    "        print(\"Average marks is \",avg1)   \n",
    "        if(avg1>=90.0):\n",
    "            print(\"Grade: A\")\n",
    "        elif(avg1>=80.0 and avg1<90.0):\n",
    "            print(\"Grade: B\")\n",
    "        elif(avg1>=70.0 and  avg1<80.0):\n",
    "            print(\"Grade: C\")\n",
    "        elif(avg1>=60.0 and  avg1<70.0):\n",
    "            print(\"Grade: D\")\n",
    "        else:\n",
    "            print(\"Grade: F\")\n",
    "        students[sname] = marks\n",
    "        print(\"Dictionary of student created :\")\n",
    "        print(students)"
   ]
  },
  {
   "cell_type": "markdown",
   "id": "8e1fcb5d",
   "metadata": {},
   "source": [
    "# # Write a Python Program to create a 1D array of numbers from 0 to 9. \n"
   ]
  },
  {
   "cell_type": "code",
   "execution_count": null,
   "id": "0ab5d1b6",
   "metadata": {},
   "outputs": [],
   "source": [
    "#This code imports a library called numpy, which is used for scientific \n",
    "#computing. It then creates an array of numbers from 0 to 9 with a step size of 1. Finally, it prints the array.\n",
    "import numpy as np   #This is a function that creates an array of numbers from 0 to 10.\n",
    "nums = np.arange(0, 10,1)\n",
    "print(\"One-dimensional array of single digit numbers:\") \n",
    "print(nums)#This is a function that prints the array of numbers."
   ]
  },
  {
   "cell_type": "code",
   "execution_count": 6,
   "id": "5af4e240",
   "metadata": {},
   "outputs": [
    {
     "name": "stdout",
     "output_type": "stream",
     "text": [
      "\n",
      "One-dimensional array of three digit numbers:\n",
      "[100 101 102 103 104 105 106 107 108 109 110 111 112 113 114 115 116 117\n",
      " 118 119 120 121 122 123 124 125 126 127 128 129 130 131 132 133 134 135\n",
      " 136 137 138 139 140 141 142 143 144 145 146 147 148 149 150 151 152 153\n",
      " 154 155 156 157 158 159 160 161 162 163 164 165 166 167 168 169 170 171\n",
      " 172 173 174 175 176 177 178 179 180 181 182 183 184 185 186 187 188 189\n",
      " 190 191 192 193 194 195 196 197 198 199 200]\n"
     ]
    }
   ],
   "source": [
    "num1 = np.arange(100, 201)\n",
    "print(\"\\nOne-dimensional array of three digit numbers:\") \n",
    "print(num1)"
   ]
  },
  {
   "cell_type": "markdown",
   "id": "ca66a830",
   "metadata": {},
   "source": [
    "# Write a NumPy program to create an array of all the even integers  from 30 to 70. "
   ]
  },
  {
   "cell_type": "code",
   "execution_count": 7,
   "id": "15448107",
   "metadata": {},
   "outputs": [
    {
     "name": "stdout",
     "output_type": "stream",
     "text": [
      "Array of all the even integers from 30 to 70\n",
      "[30 32 34 36 38 40 42 44 46 48 50 52 54 56 58 60 62 64 66 68 70]\n"
     ]
    }
   ],
   "source": [
    "import numpy as np\n",
    "array=np.arange(30,71,2)\n",
    "print(\"Array of all the even integers from 30 to 70\")\n",
    "print(array)\n"
   ]
  },
  {
   "cell_type": "markdown",
   "id": "9aa94633",
   "metadata": {},
   "source": [
    "# Write a NumPy program to create a 3x4 matrix filled with values  from 10 to 21."
   ]
  },
  {
   "cell_type": "code",
   "execution_count": 8,
   "id": "07f4d0dd",
   "metadata": {},
   "outputs": [
    {
     "name": "stdout",
     "output_type": "stream",
     "text": [
      "Original array:\n",
      "[[10 11 12]\n",
      " [13 14 15]\n",
      " [16 17 18]\n",
      " [19 20 21]]\n"
     ]
    }
   ],
   "source": [
    "import numpy as np\n",
    "a = np.arange(10,22).reshape((4,3))\n",
    "print(\"Original array:\")\n",
    "print(a)"
   ]
  },
  {
   "cell_type": "markdown",
   "id": "e2722877",
   "metadata": {},
   "source": [
    "# Write a NumPy program to compute the sum of all elements, sum of  each column and sum of each row of a given array."
   ]
  },
  {
   "cell_type": "code",
   "execution_count": 9,
   "id": "fd528a3d",
   "metadata": {},
   "outputs": [
    {
     "name": "stdout",
     "output_type": "stream",
     "text": [
      "Original array:\n",
      "[[ 0  1  2  3  4]\n",
      " [ 5  6  7  8  9]\n",
      " [10 11 12 13 14]\n",
      " [15 16 17 18 19]\n",
      " [20 21 22 23 24]\n",
      " [25 26 27 28 29]\n",
      " [30 31 32 33 34]\n",
      " [35 36 37 38 39]]\n"
     ]
    }
   ],
   "source": [
    "import numpy as np\n",
    "num = np.arange(40).reshape((8,5))\n",
    "#arr1 = np.reshape(num, [8,5])\n",
    "print(\"Original array:\")\n",
    "print(num)\n",
    "#result  = arr1.sum(axis=0)\n",
    "#print(\"\\nSum of all columns:\")\n",
    "#print(result)\n"
   ]
  },
  {
   "cell_type": "code",
   "execution_count": 10,
   "id": "8aba29d9",
   "metadata": {},
   "outputs": [
    {
     "name": "stdout",
     "output_type": "stream",
     "text": [
      "Original array:\n",
      "[[ 0  1  2  3  4]\n",
      " [ 5  6  7  8  9]\n",
      " [10 11 12 13 14]\n",
      " [15 16 17 18 19]\n",
      " [20 21 22 23 24]\n",
      " [25 26 27 28 29]\n",
      " [30 31 32 33 34]\n",
      " [35 36 37 38 39]]\n",
      "\n",
      "Sum of all rows:\n",
      "[140 148 156 164 172]\n"
     ]
    }
   ],
   "source": [
    "import numpy as np\n",
    "num = np.arange(40)\n",
    "arr1 = np.reshape(num, [8,5])\n",
    "print(\"Original array:\")\n",
    "print(arr1)\n",
    "result  = arr1.sum(axis=0)\n",
    "print(\"\\nSum of all rows:\")\n",
    "print(result)"
   ]
  },
  {
   "cell_type": "code",
   "execution_count": null,
   "id": "167491b2",
   "metadata": {},
   "outputs": [],
   "source": [
    "import numpy as np\n",
    "num = np.arange(40)\n",
    "arr1 = np.reshape(num, [8,5])\n",
    "print(\"Original array:\")\n",
    "print(arr1)\n",
    "result  = arr1.sum()\n",
    "print(\"\\nSum of all elements:\")\n",
    "print(result)"
   ]
  },
  {
   "cell_type": "code",
   "execution_count": null,
   "id": "4656d6b1",
   "metadata": {},
   "outputs": [],
   "source": []
  }
 ],
 "metadata": {
  "kernelspec": {
   "display_name": "Python 3 (ipykernel)",
   "language": "python",
   "name": "python3"
  },
  "language_info": {
   "codemirror_mode": {
    "name": "ipython",
    "version": 3
   },
   "file_extension": ".py",
   "mimetype": "text/x-python",
   "name": "python",
   "nbconvert_exporter": "python",
   "pygments_lexer": "ipython3",
   "version": "3.9.12"
  }
 },
 "nbformat": 4,
 "nbformat_minor": 5
}
